{
 "cells": [
  {
   "cell_type": "markdown",
   "id": "1d8ea729-4326-45de-a10d-1246fbdc25e4",
   "metadata": {},
   "source": [
    "# PyCity Schools Analysis:\n",
    "### Data Trends: ...\n",
    "### Data Trends: ...\n"
   ]
  },
  {
   "cell_type": "code",
   "execution_count": 1,
   "id": "46d19b0f-99d6-4da7-ba76-aaaed149c60d",
   "metadata": {
    "tags": []
   },
   "outputs": [
    {
     "data": {
      "text/html": [
       "<div>\n",
       "<style scoped>\n",
       "    .dataframe tbody tr th:only-of-type {\n",
       "        vertical-align: middle;\n",
       "    }\n",
       "\n",
       "    .dataframe tbody tr th {\n",
       "        vertical-align: top;\n",
       "    }\n",
       "\n",
       "    .dataframe thead th {\n",
       "        text-align: right;\n",
       "    }\n",
       "</style>\n",
       "<table border=\"1\" class=\"dataframe\">\n",
       "  <thead>\n",
       "    <tr style=\"text-align: right;\">\n",
       "      <th></th>\n",
       "      <th>Student ID</th>\n",
       "      <th>Student Name</th>\n",
       "      <th>Gender</th>\n",
       "      <th>Grade</th>\n",
       "      <th>School</th>\n",
       "      <th>Reading Score</th>\n",
       "      <th>Math Score</th>\n",
       "      <th>School ID</th>\n",
       "      <th>Type</th>\n",
       "      <th>Size</th>\n",
       "      <th>Budget</th>\n",
       "    </tr>\n",
       "  </thead>\n",
       "  <tbody>\n",
       "    <tr>\n",
       "      <th>0</th>\n",
       "      <td>0</td>\n",
       "      <td>Paul Bradley</td>\n",
       "      <td>M</td>\n",
       "      <td>9th</td>\n",
       "      <td>Huang High School</td>\n",
       "      <td>66</td>\n",
       "      <td>79</td>\n",
       "      <td>0</td>\n",
       "      <td>District</td>\n",
       "      <td>2917</td>\n",
       "      <td>1910635</td>\n",
       "    </tr>\n",
       "    <tr>\n",
       "      <th>1</th>\n",
       "      <td>1</td>\n",
       "      <td>Victor Smith</td>\n",
       "      <td>M</td>\n",
       "      <td>12th</td>\n",
       "      <td>Huang High School</td>\n",
       "      <td>94</td>\n",
       "      <td>61</td>\n",
       "      <td>0</td>\n",
       "      <td>District</td>\n",
       "      <td>2917</td>\n",
       "      <td>1910635</td>\n",
       "    </tr>\n",
       "    <tr>\n",
       "      <th>2</th>\n",
       "      <td>2</td>\n",
       "      <td>Kevin Rodriguez</td>\n",
       "      <td>M</td>\n",
       "      <td>12th</td>\n",
       "      <td>Huang High School</td>\n",
       "      <td>90</td>\n",
       "      <td>60</td>\n",
       "      <td>0</td>\n",
       "      <td>District</td>\n",
       "      <td>2917</td>\n",
       "      <td>1910635</td>\n",
       "    </tr>\n",
       "    <tr>\n",
       "      <th>3</th>\n",
       "      <td>3</td>\n",
       "      <td>Dr. Richard Scott</td>\n",
       "      <td>M</td>\n",
       "      <td>12th</td>\n",
       "      <td>Huang High School</td>\n",
       "      <td>67</td>\n",
       "      <td>58</td>\n",
       "      <td>0</td>\n",
       "      <td>District</td>\n",
       "      <td>2917</td>\n",
       "      <td>1910635</td>\n",
       "    </tr>\n",
       "    <tr>\n",
       "      <th>4</th>\n",
       "      <td>4</td>\n",
       "      <td>Bonnie Ray</td>\n",
       "      <td>F</td>\n",
       "      <td>9th</td>\n",
       "      <td>Huang High School</td>\n",
       "      <td>97</td>\n",
       "      <td>84</td>\n",
       "      <td>0</td>\n",
       "      <td>District</td>\n",
       "      <td>2917</td>\n",
       "      <td>1910635</td>\n",
       "    </tr>\n",
       "  </tbody>\n",
       "</table>\n",
       "</div>"
      ],
      "text/plain": [
       "   Student ID       Student Name Gender Grade             School  \\\n",
       "0           0       Paul Bradley      M   9th  Huang High School   \n",
       "1           1       Victor Smith      M  12th  Huang High School   \n",
       "2           2    Kevin Rodriguez      M  12th  Huang High School   \n",
       "3           3  Dr. Richard Scott      M  12th  Huang High School   \n",
       "4           4         Bonnie Ray      F   9th  Huang High School   \n",
       "\n",
       "   Reading Score  Math Score  School ID      Type  Size   Budget  \n",
       "0             66          79          0  District  2917  1910635  \n",
       "1             94          61          0  District  2917  1910635  \n",
       "2             90          60          0  District  2917  1910635  \n",
       "3             67          58          0  District  2917  1910635  \n",
       "4             97          84          0  District  2917  1910635  "
      ]
     },
     "execution_count": 1,
     "metadata": {},
     "output_type": "execute_result"
    }
   ],
   "source": [
    "# Setup\n",
    "import pandas as pd\n",
    "from pathlib import Path\n",
    "\n",
    "# File load\n",
    "schools_import_data = Path('Resources/schools_complete.csv')\n",
    "students_import_data = Path('Resources/students_complete.csv')\n",
    "\n",
    "# Store data in Pandas DataFrame & rename headers\n",
    "schools_df = pd.read_csv(schools_import_data)\n",
    "schools_df = schools_df.rename( columns = {\n",
    "    'school_name' : 'School',\n",
    "    'type' : 'Type',\n",
    "    'size' : 'Size',\n",
    "    'budget' : 'Budget'})\n",
    "\n",
    "students_df = pd.read_csv(students_import_data)\n",
    "students_df = students_df.rename( columns = {\n",
    "    'student_name' : 'Student Name',\n",
    "    'gender' : 'Gender',\n",
    "    'school_name' : 'School',\n",
    "    'grade' : 'Grade',\n",
    "    'reading_score' : 'Reading Score',\n",
    "    'math_score' : 'Math Score'})\n",
    "\n",
    "# Combine data\n",
    "combined_school_df = pd.merge(students_df, schools_df, how = 'left', on = ['School', 'School'])\n",
    "\n",
    "combined_school_df.head()"
   ]
  },
  {
   "cell_type": "markdown",
   "id": "1564d43e-de93-4095-9f47-5e7c0726b6da",
   "metadata": {},
   "source": [
    "## District Summary"
   ]
  },
  {
   "cell_type": "code",
   "execution_count": 2,
   "id": "5833ec60-3474-401a-906f-115b51f7c7a6",
   "metadata": {},
   "outputs": [
    {
     "data": {
      "text/plain": [
       "Student ID       39170\n",
       "Student Name     39170\n",
       "Gender           39170\n",
       "Grade            39170\n",
       "School           39170\n",
       "Reading Score    39170\n",
       "Math Score       39170\n",
       "School ID        39170\n",
       "Type             39170\n",
       "Size             39170\n",
       "Budget           39170\n",
       "dtype: int64"
      ]
     },
     "execution_count": 2,
     "metadata": {},
     "output_type": "execute_result"
    }
   ],
   "source": [
    "# Check for missing data\n",
    "combined_school_df.count()"
   ]
  },
  {
   "cell_type": "code",
   "execution_count": 3,
   "id": "f212bd29-11c8-40fa-8ead-417362952110",
   "metadata": {
    "tags": []
   },
   "outputs": [
    {
     "name": "stdout",
     "output_type": "stream",
     "text": [
      "There are 15 schools total\n"
     ]
    }
   ],
   "source": [
    "# Number of unique schools\n",
    "school_sum = len(combined_school_df['School'].unique())\n",
    "print(f'There are {school_sum} schools total')"
   ]
  },
  {
   "cell_type": "code",
   "execution_count": 4,
   "id": "10473a25-c9da-46dc-b38d-00fffd8d3e1f",
   "metadata": {
    "tags": []
   },
   "outputs": [
    {
     "name": "stdout",
     "output_type": "stream",
     "text": [
      "There are 39170 students total\n"
     ]
    }
   ],
   "source": [
    "# Number of students\n",
    "# len(combined_school_df['student_name'].unique())\n",
    "# len(students_df['student_name'].unique())\n",
    "# 32715 --Why is this wrong??\n",
    "\n",
    "student_sum = combined_school_df['Student Name'].count()\n",
    "print(f'There are {student_sum} students total')"
   ]
  },
  {
   "cell_type": "code",
   "execution_count": 15,
   "id": "858c3b9d-8840-4deb-8c65-0e3eba893814",
   "metadata": {
    "tags": []
   },
   "outputs": [
    {
     "name": "stdout",
     "output_type": "stream",
     "text": [
      "There is a total of $ 24649428 budgeted\n"
     ]
    }
   ],
   "source": [
    "# Total budget\n",
    "budget_sum = schools_df['Budget'].sum()\n",
    "print(f'There is a total of $ {budget_sum} budgeted')"
   ]
  },
  {
   "cell_type": "code",
   "execution_count": 6,
   "id": "bbdd4338-6415-4abd-86f7-d6fff02cd4e3",
   "metadata": {
    "tags": []
   },
   "outputs": [
    {
     "name": "stdout",
     "output_type": "stream",
     "text": [
      "The average math score is 78.99\n"
     ]
    }
   ],
   "source": [
    "# Average math score\n",
    "math_avg = combined_school_df['Math Score'].mean()\n",
    "print(f'The average math score is {round(math_avg, 2)}')"
   ]
  },
  {
   "cell_type": "code",
   "execution_count": 7,
   "id": "da54863f-75a4-4bed-8c4c-49a40405c6de",
   "metadata": {
    "tags": []
   },
   "outputs": [
    {
     "name": "stdout",
     "output_type": "stream",
     "text": [
      "The average reading score is 81.88\n"
     ]
    }
   ],
   "source": [
    "# Average reading score\n",
    "reading_avg = combined_school_df['Reading Score'].mean()\n",
    "print(f'The average reading score is {round(reading_avg, 2)}')"
   ]
  },
  {
   "cell_type": "code",
   "execution_count": 8,
   "id": "2327dd4b-1f6e-4ac0-9cb9-819a719d20eb",
   "metadata": {
    "tags": []
   },
   "outputs": [
    {
     "name": "stdout",
     "output_type": "stream",
     "text": [
      "74.98 % of students passed math\n"
     ]
    }
   ],
   "source": [
    "# Percentage who passed math\n",
    "# passing_math_count = school_data_complete[(school_data_complete[\"math_score\"] >= 70)].count()[\"student_name\"]\n",
    "# passing_math_percentage = passing_math_count / float(student_count) * 100\n",
    "# passing_math_percentage\n",
    "math_pass_sum = combined_school_df[(combined_school_df['Math Score'] >= 70)].count()['Student Name']\n",
    "math_pass_rate = (math_pass_sum / float(student_sum)) * 100\n",
    "print(f'{round(math_pass_rate,2)} % of students passed math')"
   ]
  },
  {
   "cell_type": "code",
   "execution_count": 9,
   "id": "5f050d2e-9e4a-4293-aa40-ef57036147ee",
   "metadata": {
    "tags": []
   },
   "outputs": [
    {
     "name": "stdout",
     "output_type": "stream",
     "text": [
      "85.81 % of students passed reading\n"
     ]
    }
   ],
   "source": [
    "# Percentage who passed reading\n",
    "reading_pass_sum = combined_school_df[(combined_school_df['Reading Score'] >= 70)].count()['Student Name']\n",
    "reading_pass_rate = (reading_pass_sum / float(student_sum)) * 100\n",
    "print(f'{round(reading_pass_rate, 2)} % of students passed reading')"
   ]
  },
  {
   "cell_type": "code",
   "execution_count": 10,
   "id": "586e6e30-febc-4587-aa7f-108d96a469ed",
   "metadata": {
    "tags": []
   },
   "outputs": [
    {
     "name": "stdout",
     "output_type": "stream",
     "text": [
      "65.17 % of students passed both math and reading\n"
     ]
    }
   ],
   "source": [
    "# Percentage who passed both math and reading\n",
    "math_reading_sum = combined_school_df[\n",
    "    (combined_school_df['Math Score'] >= 70) & (combined_school_df['Reading Score'] >= 70)].count()['Student Name']\n",
    "math_reading_rate = ((math_reading_sum / float(student_sum)) * 100)\n",
    "print(f'{round(math_reading_rate, 2)} % of students passed both math and reading')"
   ]
  },
  {
   "cell_type": "code",
   "execution_count": 11,
   "id": "2ff81961-c229-476b-b6e9-855e26ec010b",
   "metadata": {
    "tags": []
   },
   "outputs": [
    {
     "data": {
      "text/html": [
       "<div>\n",
       "<style scoped>\n",
       "    .dataframe tbody tr th:only-of-type {\n",
       "        vertical-align: middle;\n",
       "    }\n",
       "\n",
       "    .dataframe tbody tr th {\n",
       "        vertical-align: top;\n",
       "    }\n",
       "\n",
       "    .dataframe thead th {\n",
       "        text-align: right;\n",
       "    }\n",
       "</style>\n",
       "<table border=\"1\" class=\"dataframe\">\n",
       "  <thead>\n",
       "    <tr style=\"text-align: right;\">\n",
       "      <th></th>\n",
       "      <th>Total Schools</th>\n",
       "      <th>Total Students</th>\n",
       "      <th>Total Budget</th>\n",
       "      <th>Average Math Score</th>\n",
       "      <th>Average Reading Score</th>\n",
       "      <th>% Passing Math</th>\n",
       "      <th>% Passing Reading</th>\n",
       "      <th>% Overall Passing</th>\n",
       "    </tr>\n",
       "  </thead>\n",
       "  <tbody>\n",
       "    <tr>\n",
       "      <th>0</th>\n",
       "      <td>15</td>\n",
       "      <td>39,170</td>\n",
       "      <td>$24,649,428.00</td>\n",
       "      <td>78.985371</td>\n",
       "      <td>81.87784</td>\n",
       "      <td>74.980853</td>\n",
       "      <td>85.805463</td>\n",
       "      <td>65.172326</td>\n",
       "    </tr>\n",
       "  </tbody>\n",
       "</table>\n",
       "</div>"
      ],
      "text/plain": [
       "   Total Schools Total Students    Total Budget  Average Math Score  \\\n",
       "0             15         39,170  $24,649,428.00           78.985371   \n",
       "\n",
       "   Average Reading Score  % Passing Math  % Passing Reading  % Overall Passing  \n",
       "0               81.87784       74.980853          85.805463          65.172326  "
      ]
     },
     "execution_count": 11,
     "metadata": {},
     "output_type": "execute_result"
    }
   ],
   "source": [
    "# District Summary\n",
    "district_summary_df = pd.DataFrame({\n",
    "    'Total Schools' : [school_sum],\n",
    "    'Total Students' : [student_sum],\n",
    "    'Total Budget' : [budget_sum],\n",
    "    'Average Math Score' : [math_avg],\n",
    "    'Average Reading Score' : [reading_avg],\n",
    "    '% Passing Math' : [math_pass_rate],\n",
    "    '% Passing Reading' : [reading_pass_rate],\n",
    "    '% Overall Passing' : [math_reading_rate]})\n",
    "\n",
    "# REQUIRES FORMATTING\n",
    "############## FORMAT FORMAT FORMAT ########################\n",
    "district_summary_df[\"Total Students\"] = district_summary_df[\"Total Students\"].map(\"{:,}\".format)\n",
    "district_summary_df[\"Total Budget\"] = district_summary_df[\"Total Budget\"].map(\"${:,.2f}\".format)\n",
    "\n",
    "district_summary_df"
   ]
  },
  {
   "cell_type": "markdown",
   "id": "63f6e9d2-6ae0-4b45-a3b6-a2d950719de3",
   "metadata": {},
   "source": [
    "## School Summary"
   ]
  },
  {
   "cell_type": "code",
   "execution_count": 41,
   "id": "9caec056-be75-45f8-8f51-f237e9c6d284",
   "metadata": {
    "tags": []
   },
   "outputs": [
    {
     "name": "stdout",
     "output_type": "stream",
     "text": [
      "Charter     8\n",
      "District    7\n",
      "Name: Type, dtype: int64\n"
     ]
    }
   ],
   "source": [
    "school_type = schools_df['Type'].value_counts()\n",
    "print(school_type)\n",
    "# School types\n",
    "# school_type = schools_df['Type']\n",
    "# school_type"
   ]
  },
  {
   "cell_type": "code",
   "execution_count": 13,
   "id": "30a5a105-b170-419c-b0b3-ad41b600b9ed",
   "metadata": {
    "tags": []
   },
   "outputs": [
    {
     "data": {
      "text/plain": [
       "District    26976\n",
       "Charter     12194\n",
       "Name: Type, dtype: int64"
      ]
     },
     "execution_count": 13,
     "metadata": {},
     "output_type": "execute_result"
    }
   ],
   "source": [
    "# Calculate the total student count per school"
   ]
  },
  {
   "cell_type": "code",
   "execution_count": null,
   "id": "0472953d-8c07-466b-8813-1a1c58c7bf67",
   "metadata": {},
   "outputs": [],
   "source": [
    "# Calculate the total school budget and per capita spending per school"
   ]
  }
 ],
 "metadata": {
  "kernelspec": {
   "display_name": "Python 3 (ipykernel)",
   "language": "python",
   "name": "python3"
  },
  "language_info": {
   "codemirror_mode": {
    "name": "ipython",
    "version": 3
   },
   "file_extension": ".py",
   "mimetype": "text/x-python",
   "name": "python",
   "nbconvert_exporter": "python",
   "pygments_lexer": "ipython3",
   "version": "3.10.11"
  }
 },
 "nbformat": 4,
 "nbformat_minor": 5
}
